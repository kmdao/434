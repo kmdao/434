{
 "cells": [
  {
   "cell_type": "code",
   "execution_count": null,
   "id": "b0a4672a-ba37-4064-955f-ee4cac14489c",
   "metadata": {},
   "outputs": [],
   "source": [
    "import matplotlib.pyplot as plt\n",
    "import matplotlib as mpl\n",
    "import pandas as pd\n",
    "import uncertainties as unc\n",
    "from scipy import stats\n",
    "from scipy.stats import norm \n",
    "from scipy.stats import uniform\n",
    "from scipy.stats import binom\n",
    "from scipy.stats import poisson\n",
    "from scipy.stats import cauchy\n",
    "import scipy.constants as const\n",
    "from tabulate import tabulate\n",
    "import math\n",
    "from matplotlib import cm\n",
    "import matplotlib.cm as cm\n",
    "import seaborn as sns\n",
    "from scipy.optimize import minimize\n",
    "from iminuit import Minuit\n",
    "%matplotlib inline"
   ]
  },
  {
   "cell_type": "code",
   "execution_count": null,
   "id": "5a8cbfe4-fcb5-4893-83be-bd28b33417b7",
   "metadata": {},
   "outputs": [],
   "source": []
  }
 ],
 "metadata": {
  "kernelspec": {
   "display_name": "Python 3 (ipykernel)",
   "language": "python",
   "name": "python3"
  },
  "language_info": {
   "codemirror_mode": {
    "name": "ipython",
    "version": 3
   },
   "file_extension": ".py",
   "mimetype": "text/x-python",
   "name": "python",
   "nbconvert_exporter": "python",
   "pygments_lexer": "ipython3",
   "version": "3.9.12"
  }
 },
 "nbformat": 4,
 "nbformat_minor": 5
}
