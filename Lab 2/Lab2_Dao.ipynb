{
 "cells": [
  {
   "cell_type": "code",
   "execution_count": null,
   "id": "5dc7b04d-1b26-41d6-bae6-4e94d857ca54",
   "metadata": {},
   "outputs": [],
   "source": [
    "# Import usual packages\n",
    "import numpy as np\n",
    "import matplotlib.pyplot as plt\n",
    "import matplotlib as mpl\n",
    "import pandas as pd\n",
    "import uncertainties as unc\n",
    "import scipy.constants as const\n",
    "%matplotlib inline"
   ]
  },
  {
   "cell_type": "markdown",
   "id": "a8a771de-36c0-401a-80b1-e63a024df2d8",
   "metadata": {},
   "source": [
    "# Numpy Random Seed"
   ]
  },
  {
   "cell_type": "code",
   "execution_count": null,
   "id": "fdafd97d-5f10-47ef-a789-c4386ea5deb0",
   "metadata": {},
   "outputs": [],
   "source": [
    "# Produce random series to use for checking this lab's results\n"
   ]
  },
  {
   "cell_type": "markdown",
   "id": "fa905328-7dbb-4d37-9eaa-e44c462fc6cc",
   "metadata": {},
   "source": [
    "# Variable of Transformation\n",
    "For a random distribution of x between 0 and 1 with variable transformation $u=f(x)$, we can calculate the probability density function $g(u)$ using an analytic method. In this assignment, we will draw a random sample from the uniform distribution, apply a transformation to each data point, and check the consistency of transformed distributions with the analytic prediction.\n",
    "1. Draw a 1000 events sample between $x_i, i=0,1,...,999$ using built in distributions in scipy with uniform density between 0 and 1.\n",
    "2. For each value of $x_i$, calculate the transformed value $u=x^2$\n",
    "3. Draw the $u_i$ distribution. Plot the analytic solution $g(u)$ in the same plot and compare the consistency. Show detils about how you derive $g(u)$ analytically.\n",
    "4. Repeat step 1,2,3 with one of the transformation functions below.\n",
    "\n",
    "        i) $u=1/x$ \n",
    "        ii) $u=\\sqrt(x)$ \n",
    "        iii) $u=e^x$ \n",
    "        iv) $u=log(x)$"
   ]
  },
  {
   "cell_type": "code",
   "execution_count": null,
   "id": "a2d3c8bb-e676-4e57-ab4a-2873dff4d2b7",
   "metadata": {},
   "outputs": [],
   "source": []
  },
  {
   "cell_type": "markdown",
   "id": "9d6a6a68-42e8-4539-a858-0c556a0ce4d6",
   "metadata": {},
   "source": [
    "# Throwing 2 Dice\n",
    "We can simulate a fair dice by drawing a random uniform distribution of x between 0 and 1. There are multiple ways to do so, e.g. multiply a random nyumber x by 6, take the integer part of the number and add it by one ($[0,1]\\rightarrow[0,5]\\rightarrow[1,6]$), or use numpy.random.uniform(). This numbre represents the face of the dice. We cn repeat this procedure to simulate rolling the dice N times.\n",
    "\n",
    "1. Simulate a pair of dice $N=1000$ times.\n",
    "2. Calcuate the sum of each pair.\n",
    "3. Draw the distribution of the sum.\n",
    "4. Calculate mean and cariance of the distribution of the sum.\n",
    "5. Calculate the probability of sevens (i.e. sum of two dices equals to 7) by taking the ratio of this number of sevens to 1000. Evaluate the statistical uncertainty of the probability (assuming Binomil errors).\n",
    "6. Compare the probability of sevens from step 5 to the analytic calcuation based on the homework method. Discuss consistency between the simulation and analytic calculation.\n"
   ]
  },
  {
   "cell_type": "code",
   "execution_count": null,
   "id": "7e728bd4-6c1e-46af-8e0c-57488c96bdbe",
   "metadata": {},
   "outputs": [],
   "source": []
  },
  {
   "cell_type": "markdown",
   "id": "f319c7d6-9a7e-40a1-af2d-e69008263aab",
   "metadata": {},
   "source": [
    "# Central Limit Theorem\n",
    "The central limit theorem states that the distribution of the sample mean $\\bar{x}$, $\\bar{x}=\\frac{1}{N}\\sum_{i=1}^{N}x_i$ of N variables $x_i$ with finite variance $\\sigma^2$ in the limit $N\\to \\infty$ will approach a normal distribution with variance $\\sigma^2/N$ independent of the form of the distribution f(x). In this computational experiment, we will test this theorem. Generate a $M=5$ event sample using built-in Poisson distributions in scipy with $\\lambda=2.0$. From these 5 events, calculate the mean $\\mu_5$ and standard deviation $\\sigma_5$. Repeat this process N times. For each time, you will draw different sets of $M=5$ events,and calculate independent $\\mu_5$ and, $\\sigma_5$ respectively.\n",
    "\n",
    "1. Let N=10. Plot distributions of $\\mu_5$ and $\\sigma_5$. For each plot, indicate the mean and variance in the legend.\n",
    "2. Let N=100. Plot distributions of $\\mu_5$ and $\\sigma_5$. For each plot, indicate the mean and variance in the legend.\n",
    "3. Let N=1000. Plot distributions of $\\mu_5$ and $\\sigma_5$. For each plot, indicate the mean and variance in the legend.\n",
    "4. Discuss your observation. \n",
    "\n",
    "        i) Do $\\mu_5$ and $\\sigma_5$ approach normal distributions when N is approaching a larger number?\n",
    "        ii) Is the variance of $\\mu_5$ and $\\sigma_5$ following some scaling rule as a function of N?\n",
    "5. Fix N=1000, plot distribition of $\\mu_100$ and $\\sigma_100$ which are mean and standard deviaation of a sample of $M=100$ events with $\\lambda=2.0$. Discuss your observation."
   ]
  },
  {
   "cell_type": "code",
   "execution_count": null,
   "id": "c2275ba5-9d67-4ccc-beec-6700ef7bffaf",
   "metadata": {},
   "outputs": [],
   "source": []
  },
  {
   "cell_type": "markdown",
   "id": "cefc8c2d-388b-4db2-bd16-d71f550b63ef",
   "metadata": {},
   "source": [
    "# Bonus\n",
    "Generate 1000 samples. Each sample is a 100 event dataset using one built-in distribution in scipy but not Binomil, Normal, nor Poisson. Show that the mean and variance of these 1000 samples also behave like a normal distribution. "
   ]
  },
  {
   "cell_type": "code",
   "execution_count": null,
   "id": "8c655f7b-53dd-4967-8d15-58e399d00394",
   "metadata": {},
   "outputs": [],
   "source": []
  }
 ],
 "metadata": {
  "kernelspec": {
   "display_name": "Python 3 (ipykernel)",
   "language": "python",
   "name": "python3"
  },
  "language_info": {
   "codemirror_mode": {
    "name": "ipython",
    "version": 3
   },
   "file_extension": ".py",
   "mimetype": "text/x-python",
   "name": "python",
   "nbconvert_exporter": "python",
   "pygments_lexer": "ipython3",
   "version": "3.9.12"
  }
 },
 "nbformat": 4,
 "nbformat_minor": 5
}
