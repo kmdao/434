{
 "cells": [
  {
   "cell_type": "code",
   "execution_count": 1,
   "id": "bea4d1e5-9888-4a93-9297-627eec1a8205",
   "metadata": {},
   "outputs": [],
   "source": [
    "import numpy as np\n",
    "import matplotlib.pyplot as plt\n",
    "import matplotlib as mpl\n",
    "import pandas as pd\n",
    "import uncertainties as unc\n",
    "from scipy import stats\n",
    "from scipy.stats import norm \n",
    "from scipy.stats import uniform\n",
    "from scipy.stats import binom\n",
    "from scipy.stats import poisson\n",
    "from numpy import random\n",
    "import scipy.constants as const\n",
    "from tabulate import tabulate\n",
    "import math\n",
    "%matplotlib inline"
   ]
  },
  {
   "cell_type": "markdown",
   "id": "a962f5f8-858e-4e0d-b03e-220862f5d9f9",
   "metadata": {},
   "source": [
    "In this lab, we will practice different estimation methods to find the probability distribution function\n",
    "(PDF) which best describes the mass distribution of dataset (Unit: GeV). The PDF function of in-\n",
    "terest is Cauchy distribution, also known as the Lorentz distribution or the (non-relativistic) Breit–\n",
    "Wigner distribution (see https://docs.scipy.org/doc/scipy/reference/generated/scipy.\n",
    "stats.cauchy.html) There are 2 free parameters of the Lorentz distribution: mass and width.\n",
    "The dataset is shown here:"
   ]
  },
  {
   "cell_type": "code",
   "execution_count": 4,
   "id": "5698dab6-88d2-4b3f-ac64-7f8251280ad6",
   "metadata": {},
   "outputs": [
    {
     "name": "stdout",
     "output_type": "stream",
     "text": [
      "[7.95442531, 10.60408232, 9.9020277, 10.42288788, 17.2193401, 10.06076572, 10.00176003, 7.8289388, 9.55481385, 9.99981543, 10.3156156, 10.70547087, 9.80374407, 7.62085689, 9.60747351]\n"
     ]
    }
   ],
   "source": [
    "# Copy in Data\n",
    "mass = [7.95442531,10.60408232,9.9020277,10.42288788,17.2193401,10.06076572,10.00176003,\n",
    "7.8289388,9.55481385,9.99981543,10.3156156,10.70547087,9.80374407,7.62085689,9.60747351,]"
   ]
  },
  {
   "cell_type": "markdown",
   "id": "5df2152f-cf5c-49d1-9d2e-93dfb8e6a3e1",
   "metadata": {},
   "source": [
    "# Task 1 Visualization\n",
    "1. Draw the unbinned mass distribution (see below for an example of this type of plot).\n",
    "2. Draw the binned distribution in 1D histogram. Set bin size 0.5 GeV betwen range 0 and 20GeV and show vertical error bar in each bin.\n"
   ]
  },
  {
   "cell_type": "code",
   "execution_count": 5,
   "id": "246ee4cd-f247-4383-93e5-735934609376",
   "metadata": {},
   "outputs": [
    {
     "data": {
      "text/plain": [
       "(array([3., 0., 9., 2., 0., 0., 0., 0., 0., 1.]),\n",
       " array([ 7.62085689,  8.58070521,  9.54055353, 10.50040185, 11.46025017,\n",
       "        12.4200985 , 13.37994682, 14.33979514, 15.29964346, 16.25949178,\n",
       "        17.2193401 ]),\n",
       " <BarContainer object of 10 artists>)"
      ]
     },
     "execution_count": 5,
     "metadata": {},
     "output_type": "execute_result"
    },
    {
     "data": {
      "image/png": "[encoded data removed]",
      "text/plain": [
       "<Figure size 432x288 with 1 Axes>"
      ]
     },
     "metadata": {
      "needs_background": "light"
     },
     "output_type": "display_data"
    }
   ],
   "source": []
  },
  {
   "cell_type": "code",
   "execution_count": 7,
   "id": "31636366-9017-423b-9313-7779e0eacfc0",
   "metadata": {},
   "outputs": [
    {
     "data": {
      "text/plain": [
       "(array([0., 0., 0., 0., 0., 0., 0., 0., 0., 0., 0., 0., 0., 0., 0., 3., 0.,\n",
       "        0., 0., 5., 4., 2., 0., 0., 0., 0., 0., 0., 0., 0., 0., 0., 0., 0.,\n",
       "        1., 0., 0., 0., 0.]),\n",
       " array([ 0. ,  0.5,  1. ,  1.5,  2. ,  2.5,  3. ,  3.5,  4. ,  4.5,  5. ,\n",
       "         5.5,  6. ,  6.5,  7. ,  7.5,  8. ,  8.5,  9. ,  9.5, 10. , 10.5,\n",
       "        11. , 11.5, 12. , 12.5, 13. , 13.5, 14. , 14.5, 15. , 15.5, 16. ,\n",
       "        16.5, 17. , 17.5, 18. , 18.5, 19. , 19.5]),\n",
       " <BarContainer object of 39 artists>)"
      ]
     },
     "execution_count": 7,
     "metadata": {},
     "output_type": "execute_result"
    },
    {
     "data": {
      "image/png": "[encoded data removed]",
      "text/plain": [
       "<Figure size 432x288 with 1 Axes>"
      ]
     },
     "metadata": {
      "needs_background": "light"
     },
     "output_type": "display_data"
    }
   ],
   "source": [
    "bins = np.arange(0, 20, 0.5)\n",
    "plt.hist(mass, bins=bins)"
   ]
  },
  {
   "cell_type": "markdown",
   "id": "f7f1e92b-f471-448e-b413-b45db3e9c6d0",
   "metadata": {},
   "source": [
    "# Task 2 Maximum Likelihood estimate (4 points)\n",
    "Using maximum likelihood estimation method to find the probability distribution function.\n",
    "1. Construct unbinned negative log-likelihood (NLL) function, i.e. −2 ln(𝐿)\n",
    "2. Scan (𝑚, Γ) in fine step size and find the best estimate parameter (𝑚0, Γ0) which leads to\n",
    "the minimum NLL, i.e. maximum Likelihood value, −2 ln(𝐿𝑚𝑎𝑥).\n",
    "3. Plot NLL as function of parameters (mass, width)=(𝑚, Γ) as 2D contour. Choose appropriate\n",
    "ranges of mass and width so that outer countour is around −2 ln(𝐿𝑚𝑎𝑥 + 5).\n",
    "4. Plot mass distribution and superpose PDF with the best fit parameter (𝑚0, Γ0)\n",
    "See example contour plots and fit output plot below (plots are just for illustration purpose).\n"
   ]
  },
  {
   "cell_type": "code",
   "execution_count": null,
   "id": "19975c04-01c4-4b32-9caa-78001f81ab8c",
   "metadata": {},
   "outputs": [],
   "source": []
  },
  {
   "cell_type": "code",
   "execution_count": null,
   "id": "a7572ad0-b254-4177-bb0d-b006e0fdf36b",
   "metadata": {},
   "outputs": [],
   "source": []
  },
  {
   "cell_type": "code",
   "execution_count": null,
   "id": "f5cc70ac-6c84-46f2-a38a-4ec7436eb200",
   "metadata": {},
   "outputs": [],
   "source": []
  },
  {
   "cell_type": "markdown",
   "id": "6d29112e-9da7-4a29-8202-b653810d3a0b",
   "metadata": {},
   "source": [
    "# Task 3 Maximum Likelihood vs Chi2 method (3 points)\n",
    "There are two free parameters of Lorentz distribution, i.e. mass 𝑚 and width Γ. Fix the Γ value\n",
    "to the best estimate from Task 2 to perform studies below.\n",
    "1. Plot −2 ln(𝐿/𝐿𝑚𝑎𝑥) as a function of mass in 1D. Choose appropriate mass range so that\n",
    "−2 ln(𝐿/𝐿𝑚𝑎𝑥) is around 5.\n",
    "2. Construct binned Chi2 function 𝜒2 based on the histogram with bin size 0.5 GeV betwen\n",
    "range 0 and 20 GeV. Scan the mass parameter and find the minimum Chi2 𝜒2\n",
    "𝑚𝑖𝑛. Plot\n",
    "Δ𝜒2 = 𝜒2(𝑚) − 𝜒2\n",
    "𝑚𝑖𝑛 as a function of mass.\n",
    "3. Superpose −2 ln(𝐿/𝐿𝑚𝑎𝑥) in blue and 𝜒2 − 𝜒2\n",
    "𝑚𝑖𝑛 in organge in one figure. Describe your\n",
    "obersvation.\n",
    "See example plot below for illustration purpose.\n"
   ]
  },
  {
   "cell_type": "code",
   "execution_count": null,
   "id": "7f80c181-7cb4-4201-857a-81b524d6eaa4",
   "metadata": {},
   "outputs": [],
   "source": []
  },
  {
   "cell_type": "code",
   "execution_count": null,
   "id": "0b6b53e5-bd75-4296-902d-62727f5d3190",
   "metadata": {},
   "outputs": [],
   "source": []
  },
  {
   "cell_type": "code",
   "execution_count": null,
   "id": "c236f75a-d27e-4b78-973a-d20e79af5f62",
   "metadata": {},
   "outputs": [],
   "source": []
  },
  {
   "cell_type": "markdown",
   "id": "63ee1340-6c53-47d0-a9e2-5ae659763576",
   "metadata": {},
   "source": [
    "# Bonus (3 points)\n",
    "Following tutorial of the iminuit package below to obtain the best estimate of Max-\n",
    "imum Likelihood method. Check consistenteny with your solutions in Task 2.\n",
    "https://iminuit.readthedocs.io/en/stable/notebooks/generic_least_squares.html\n",
    "See example results below (Ignore the number. Just for illustration purpose)."
   ]
  },
  {
   "cell_type": "code",
   "execution_count": null,
   "id": "a628b38c-1ddd-40c1-89b2-7ed238077398",
   "metadata": {},
   "outputs": [],
   "source": []
  },
  {
   "cell_type": "code",
   "execution_count": null,
   "id": "0ed6f07e-9778-4121-9cb2-3856edf555ff",
   "metadata": {},
   "outputs": [],
   "source": []
  },
  {
   "cell_type": "code",
   "execution_count": null,
   "id": "734da63d-2248-41d0-aed8-aa098358aca4",
   "metadata": {},
   "outputs": [],
   "source": []
  }
 ],
 "metadata": {
  "kernelspec": {
   "display_name": "Python 3 (ipykernel)",
   "language": "python",
   "name": "python3"
  },
  "language_info": {
   "codemirror_mode": {
    "name": "ipython",
    "version": 3
   },
   "file_extension": ".py",
   "mimetype": "text/x-python",
   "name": "python",
   "nbconvert_exporter": "python",
   "pygments_lexer": "ipython3",
   "version": "3.9.12"
  }
 },
 "nbformat": 4,
 "nbformat_minor": 5
}
