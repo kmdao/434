{
 "cells": [
  {
   "cell_type": "code",
   "execution_count": 145,
   "id": "0c4abd8f-c5a9-4175-b7eb-250a2bbb5184",
   "metadata": {},
   "outputs": [],
   "source": [
    "# Import usual packages\n",
    "import numpy as np\n",
    "from numpy import random\n",
    "import matplotlib.pyplot as plt\n",
    "import matplotlib as mpl\n",
    "import pandas as pd\n",
    "import uncertainties as unc\n",
    "import scipy.constants as const\n",
    "from scipy import stats\n",
    "from scipy.stats import poisson\n",
    "from scipy.stats import uniform\n",
    "from scipy.stats import beta\n",
    "from scipy.stats import norm\n",
    "from scipy.optimize import minimize\n",
    "from tabulate import tabulate\n",
    "import math\n",
    "%matplotlib inline"
   ]
  },
  {
   "cell_type": "markdown",
   "id": "5f0adeca-3867-4b3f-be40-08e23a114172",
   "metadata": {},
   "source": [
    "# Rejection Method\n",
    "The probability density function for beta is \n",
    "\\begin{equation}\n",
    "f(x, a, b) = \\frac{\\Gamma(a+b)x^{a-1}*(1-x)^{b-1}}{\\Gamma(a)\\Gamma(b)}\n",
    "\\end{equation}\n",
    "for $0<=x<=1, a>0, b>0$ where $\\Gamma$ is the gamma function (scipy.special.gamma). Beta takes a and b as shape parameters.\n"
   ]
  },
  {
   "cell_type": "code",
   "execution_count": 146,
   "id": "bd51609f-64f8-496b-918a-2d7257ce61f6",
   "metadata": {},
   "outputs": [
    {
     "data": {
      "image/png": "[encoded data removed]",
      "text/plain": [
       "<Figure size 360x270 with 1 Axes>"
      ]
     },
     "metadata": {
      "needs_background": "light"
     },
     "output_type": "display_data"
    }
   ],
   "source": [
    "x = np.linspace(0, 1, 1002)[1:-1]\n",
    "fig, ax = plt.subplots(figsize=(5, 3.75))\n",
    "a=5\n",
    "b=3\n",
    "dist = beta(a, b)\n",
    "plt.plot(x, dist.pdf(x), ls=\"-\", c='black',label=r'$\\alpha=%.1f,\\ \\beta=%.1f$'% (a, b))\n",
    "plt.xlim(0, 1)\n",
    "plt.ylim(0, 3)\n",
    "plt.xlabel('$x$')\n",
    "plt.ylabel(r'$p(x|\\alpha,\\beta)$')\n",
    "plt.title('Beta Distribution')\n",
    "plt.legend(loc=0)\n",
    "\n",
    "plt.show()\n"
   ]
  },
  {
   "cell_type": "markdown",
   "id": "d995d1fa-83af-4702-b456-dc4cf9b44e53",
   "metadata": {},
   "source": [
    "## Uniform Sampling"
   ]
  },
  {
   "cell_type": "code",
   "execution_count": 147,
   "id": "4bfbc2b7-92f3-4ac1-b4d4-db7c30209965",
   "metadata": {},
   "outputs": [],
   "source": [
    "# For each x_i, compute the event weight, w(x_i), and only keep x_i when w(x_i)<y\n",
    "def keep(N):\n",
    "    # Find the max value of beta (alpha=5.0, beta=3.), denoted beta_max\n",
    "    a = 5\n",
    "    b = 3\n",
    "    beta_dist = beta(a, b)\n",
    "    x_max = (a - 1) / (a + b - 2)\n",
    "    beta_max = beta_dist.pdf(x_max)\n",
    "    # Set starting parameters for zero iterations and empty arrays to fill with accepted w(x_i) values and count iterations\n",
    "    i = 0\n",
    "    accept = np.zeros(N)\n",
    "    iterations = 0\n",
    "    # Define event weight function w(x)\n",
    "    def W(x): \n",
    "        a = 5\n",
    "        b = 3\n",
    "        return beta.pdf(x, a, b)\n",
    "    # Continue iterations of function w(x_i) for i number of times until N iterations are accepted\n",
    "    while i < N:\n",
    "        iterations = iterations + 1 # Counts the number of total iterations\n",
    "        x = random.uniform(low=0., high=1.0, size=1) # A single uniform dist. sample x_i in [0,1]\n",
    "        y = random.uniform(low=0., high=beta_max, size=1) # A single uniform dist. sample y_i in [0,beta_max]\n",
    "        w = W(x) # Compute event weight\n",
    "        # Condition to continue iterations of sampling and finding w(x_i) \n",
    "        if w <= y: \n",
    "            accept[i] = x\n",
    "            i = i + 1\n",
    "    return accept, iterations\n",
    "\n",
    "# Generate this sample until accepted events N=1000 events\n",
    "keep_uniform, iterations_uniform = keep(1000) "
   ]
  },
  {
   "cell_type": "markdown",
   "id": "80bfead7-a4a6-4f70-80d6-14063e2649ff",
   "metadata": {},
   "source": [
    "#### Questions"
   ]
  },
  {
   "cell_type": "markdown",
   "id": "5f562043-7d2b-49dc-9b45-8818a440406f",
   "metadata": {},
   "source": [
    "1. What is the event weight formula?"
   ]
  },
  {
   "cell_type": "markdown",
   "id": "9369340f-4c22-4583-9d1f-183549d1f0ce",
   "metadata": {},
   "source": [
    "The event weight formula is \n",
    "\n",
    "\\begin{equation}\n",
    "w(x)=\\frac{f(x)}{g(x)} \\\\\n",
    "\\end{equation}\n",
    "\n",
    "Where a uniform distribution sample y in the scaled interval $[0, beta_{max}]$ is compared to $w(x_i)$ \n",
    "\n",
    "\\begin{equation}\n",
    "g(x)=1 \\\\\n",
    "so, \\\\\n",
    "w(x)=beta(\\alpha=5, \\beta=3)\n",
    "\\end{equation}\n",
    "\n",
    "\n"
   ]
  },
  {
   "cell_type": "markdown",
   "id": "5781e0f4-0136-433a-b7c2-2b2d3df784cc",
   "metadata": {},
   "source": [
    "2. What is the total number of samplings (pairs of x, y) required for this MC simulation? "
   ]
  },
  {
   "cell_type": "code",
   "execution_count": 148,
   "id": "c7a08d97-c6b8-452d-bd49-b52e94b14245",
   "metadata": {},
   "outputs": [
    {
     "name": "stdout",
     "output_type": "stream",
     "text": [
      "The number of samplings taken was: 1755\n"
     ]
    }
   ],
   "source": [
    "print(\"The number of samplings taken was:\", iterations_uniform)"
   ]
  },
  {
   "cell_type": "markdown",
   "id": "5526ae8c-9563-40a7-bf41-604bb71b3fd7",
   "metadata": {},
   "source": [
    "## Gaussian Sampling\n",
    "Repeat steps above but for gaussian distribution sample x."
   ]
  },
  {
   "cell_type": "code",
   "execution_count": 149,
   "id": "15553efc-4f3b-4e1e-8ce3-08dc08d345f5",
   "metadata": {},
   "outputs": [
    {
     "name": "stdout",
     "output_type": "stream",
     "text": [
      "The number of samplings taken was: 1096\n"
     ]
    }
   ],
   "source": [
    "# For each x_i NOW IN GAUSSIAN SAMPLE, compute the event weight, w(x_i), and only keep x_i when w(x_i)<y\n",
    "def keep_gaussian(N):\n",
    "    i = 0\n",
    "    accept = np.zeros(N)\n",
    "    iterations = 0\n",
    "    beta_dist = beta(a, b)\n",
    "    x_max = (a - 1) / (a + b - 2)\n",
    "    beta_max = beta_dist.pdf(x_max)\n",
    "    def W(x):\n",
    "        a = 5\n",
    "        b = 3\n",
    "        return beta.pdf(x, a, b)\n",
    "    while i < N:\n",
    "        iterations = iterations + 1\n",
    "        x = random.normal(loc=x_max, scale=2, size=1) # for a random sample of x from the gaussian, let mean=0.6 and scale=0.5 to \n",
    "        # resemble the beta distribution as closely as possible \n",
    "        y = random.uniform(low=0., high=beta_max, size=1)\n",
    "        w = W(x)\n",
    "        if w <= y:\n",
    "            accept[i] = x\n",
    "            i = i + 1\n",
    "    return accept, iterations\n",
    "\n",
    "# Generate this sample until accepted events N=1000 events\n",
    "keep_norm, iterations_norm = keep_gaussian(1000)         \n",
    "print(\"The number of samplings taken was:\", iterations_norm)\n"
   ]
  },
  {
   "cell_type": "markdown",
   "id": "0a47fa36-1fdb-47cb-992c-f96f425697c8",
   "metadata": {},
   "source": [
    "#### Questions"
   ]
  },
  {
   "cell_type": "markdown",
   "id": "2d260769-4a48-4cf0-bb26-3c968101cf4c",
   "metadata": {},
   "source": [
    "1. What is your choice of Gaussian Distribution parameter for the importance sample?\n",
    "\n",
    "I chose loc=x_max and scale=0.5 based on the initial given beta distribution whose peak is around x=0.6 and half width is about 0.4. The gaussian distribution parameters are such that the distribution being sampled from more closely resembles the beta distribution. When the distribution being sampled from (gaussian) overlaps more with the distribution being generated (beta), the more likely a single iteration (sample of x and calculated weighted function) will be accepted. "
   ]
  },
  {
   "cell_type": "markdown",
   "id": "a354039c-3f5f-4b62-b71a-26f03733d3f2",
   "metadata": {},
   "source": [
    "2. What is the event weight formula?\n",
    "\n",
    "The event weight formula is the same as before; $beta(\\alpha, \\beta)$"
   ]
  },
  {
   "cell_type": "markdown",
   "id": "061271f7-d708-40f8-bce7-94adc1287194",
   "metadata": {},
   "source": [
    "3. What is the total number of samplings (pairs of x, y) required for this MC simulation? How is this compared to the uniform sampling?"
   ]
  },
  {
   "cell_type": "code",
   "execution_count": 150,
   "id": "4b7602c3-fb96-4127-82b2-bdf95822bcca",
   "metadata": {},
   "outputs": [
    {
     "name": "stdout",
     "output_type": "stream",
     "text": [
      "The total number of samplings is: 1096\n"
     ]
    }
   ],
   "source": [
    "print('The total number of samplings is:', iterations_norm)"
   ]
  },
  {
   "cell_type": "markdown",
   "id": "81860237-a5ae-461c-b501-a37594e4a7c6",
   "metadata": {},
   "source": [
    "The total number of gaussian samplings is less than the number required for uniform sampling. This makes sense as the sampled distribution here more closely represents the beta distribution, so accepted instances are more likely."
   ]
  },
  {
   "cell_type": "markdown",
   "id": "d050153c-b207-41fa-aad1-4ad9c0d306df",
   "metadata": {},
   "source": [
    "## Visualization"
   ]
  },
  {
   "cell_type": "code",
   "execution_count": 151,
   "id": "da6313a9-ffe3-4600-9ddb-9d41294a87a0",
   "metadata": {},
   "outputs": [
    {
     "data": {
      "text/plain": [
       "<matplotlib.legend.Legend at 0x7ff180981820>"
      ]
     },
     "execution_count": 151,
     "metadata": {},
     "output_type": "execute_result"
    },
    {
     "data": {
      "image/png": "[encoded data removed]",
      "text/plain": [
       "<Figure size 360x270 with 1 Axes>"
      ]
     },
     "metadata": {
      "needs_background": "light"
     },
     "output_type": "display_data"
    }
   ],
   "source": [
    "x = np.linspace(0, 1, 1002)[1:-1]\n",
    "fig, ax = plt.subplots(figsize=(5, 3.75))\n",
    "a=5\n",
    "b=3\n",
    "dist = beta(a, b)\n",
    "ax.plot(x, dist.pdf(x), ls=\"-\", c='black',label=r'$\\alpha=%.1f,\\ \\beta=%.1f$'% (a, b))\n",
    "plt.xlim(0, 1)\n",
    "plt.ylim(0, 3)\n",
    "plt.xlabel('$x$')\n",
    "plt.ylabel(r'$p(x|\\alpha,\\beta)$')\n",
    "plt.title('Beta Distribution')\n",
    "plt.legend(loc=0)\n",
    "\n",
    "\n",
    "ax.scatter(keep_uniform, beta(a, b).pdf(keep_uniform), s=10, c='g', alpha=0.5, label='Uniform Sampling')\n",
    "\n",
    "ax.scatter(keep_norm, beta(a, b).pdf(keep_norm), s=10, c='r', alpha=0.3, label='Gaussian Sampling')\n",
    "\n",
    "ax.legend()"
   ]
  },
  {
   "cell_type": "markdown",
   "id": "c57e4996-f9de-49ef-b03f-6b5463fbafbf",
   "metadata": {},
   "source": [
    "# Sphere in 3D"
   ]
  },
  {
   "cell_type": "markdown",
   "id": "f6819099-cb50-46c2-a718-436c8155d23d",
   "metadata": {},
   "source": [
    "## Uniform Density"
   ]
  },
  {
   "cell_type": "code",
   "execution_count": 152,
   "id": "06e3f8d4-0cda-4e70-a921-261d5882cb4f",
   "metadata": {},
   "outputs": [],
   "source": [
    "# Define function to determine mass of a uniform sphere using monte carlo integration\n",
    "def MC_Uniform(N):\n",
    "    # Generate an array of N random numbers for the x, y, and z coordinates.\n",
    "    # Make sure that all the points lie in a cube enclosing the sphere.\n",
    "    points = np.zeros((N, 3)) \n",
    "    points[:, 0] = np.random.uniform(low=-1, high=1, size=N)\n",
    "    points[:, 1] = np.random.uniform(low=-1, high=1, size=N)\n",
    "    points[:, 2] = np.random.uniform(low=-1, high=1, size=N)\n",
    "    # Generate an index function. Function makes an array to append 1 (hit) or 0 (miss) for condition of inside sphere of radius=1\n",
    "    def in_sphere(points):\n",
    "        inside = []\n",
    "        for j in range(N):\n",
    "            radius = np.sqrt((points[j, 0] ** 2) + (points[j, 1] ** 2) + (points[j, 2] ** 2))\n",
    "            if radius < 1:\n",
    "                inside.append(1)\n",
    "            else: \n",
    "                inside.append(0)\n",
    "        return inside\n",
    "    # Calculate the mass and uncertainty of mass by applying the Monte Carlo integration method.\n",
    "    inside = in_sphere(points)\n",
    "    m = 8 * 2 * np.count_nonzero(inside) / N #V/N *2*count f is sum density*hit\n",
    "    return m \n"
   ]
  },
  {
   "cell_type": "code",
   "execution_count": 160,
   "id": "60fb8371-529d-493b-aa02-22cc3a0a1a3c",
   "metadata": {},
   "outputs": [
    {
     "name": "stdout",
     "output_type": "stream",
     "text": [
      "The estimated mass for N=100 is: 8.8\n",
      "The theoretical mass of the sphere is: 8.377580409572781\n"
     ]
    }
   ],
   "source": [
    "# Calculate mass for N=100\n",
    "mass_N100 = MC_Uniform(100)\n",
    "print('The estimated mass for N=100 is:', mass_N100)\n",
    "\n",
    "    \n",
    "mass = 8 * math.pi / 3 \n",
    "print('The theoretical mass of the sphere is:', mass)"
   ]
  },
  {
   "cell_type": "code",
   "execution_count": 153,
   "id": "6acf49f3-33c1-4396-9b17-95be207995da",
   "metadata": {},
   "outputs": [
    {
     "name": "stdout",
     "output_type": "stream",
     "text": [
      "The mass for N from 100 to 100k in 100 steps is: 7.2\n",
      "The uncertainty for N from 100 to 100k in 100 steps is: 0.007679999999999999\n",
      "The theoretical mass of the sphere is: 8.377580409572781\n"
     ]
    }
   ],
   "source": [
    "# Change N from 100 to 100K with 100 steps.  \n",
    "Y = np.linspace(100, 100000, 100, dtype = int)\n",
    "m_list = np.zeros(100) \n",
    "m_variance = np.zeros(100)\n",
    "uncertainty = np.zeros(100)\n",
    "\n",
    "for i in range(100):\n",
    "    m_val = MC_Uniform(Y[i])\n",
    "    m_list[i] = m_val # list of masses from N of 100 to 100k in 100 steps\n",
    "    uncertainty[i] = np.sqrt(np.var(m_list) / (Y[i] * (Y[i] - 1))) # The mean squared error\n",
    "    \n",
    "    \n",
    "m_100 = MC_Uniform(100)\n",
    "print('The mass for N from 100 to 100k in 100 steps is:', m_100)\n",
    "unc_100 = uncertainty[0]\n",
    "print('The uncertainty for N from 100 to 100k in 100 steps is:', uncertainty[0])\n",
    "mass = 8 * math.pi / 3 \n",
    "print('The theoretical mass of the sphere is:', mass)"
   ]
  },
  {
   "cell_type": "code",
   "execution_count": 154,
   "id": "2d24bbb3-b759-43c1-9933-571acd96b34d",
   "metadata": {},
   "outputs": [
    {
     "data": {
      "image/png": "[encoded data removed]",
      "text/plain": [
       "<Figure size 432x288 with 1 Axes>"
      ]
     },
     "metadata": {
      "needs_background": "light"
     },
     "output_type": "display_data"
    },
    {
     "data": {
      "image/png": "[encoded data removed]",
      "text/plain": [
       "<Figure size 432x288 with 1 Axes>"
      ]
     },
     "metadata": {
      "needs_background": "light"
     },
     "output_type": "display_data"
    }
   ],
   "source": [
    "# Plot the mass as function of N, and uncertainty of mass as function of N.\n",
    "plt.plot(Y, m_list)\n",
    "plt.title('N vs. Mass')\n",
    "plt.xlabel('N')\n",
    "plt.ylabel('Mass')\n",
    "plt.show()\n",
    "\n",
    "plt.plot(Y, uncertainty)\n",
    "plt.title('N vs. Uncertainty of Mass')\n",
    "plt.xlabel('N')\n",
    "plt.ylabel('Uncertainty')\n",
    "plt.show()"
   ]
  },
  {
   "cell_type": "markdown",
   "id": "3125993e-4073-4c97-b717-670cb12a16c7",
   "metadata": {},
   "source": [
    "#### Comment on the convergence of integration and agreement with the theoretical value m "
   ]
  },
  {
   "cell_type": "markdown",
   "id": "65846b9b-489b-4d23-822a-2925e43303e7",
   "metadata": {},
   "source": [
    "The Monte Carlo Method converges at a rate of $1/N^2$, which most closely resembles the plot of uncertainty of mass as a function of N. The theoretical value of m is 8.33 kg, which is not in agreement with calculated mass and its uncertainty."
   ]
  },
  {
   "cell_type": "markdown",
   "id": "f20c30c6-5f8c-46db-8b58-2be05c0f531a",
   "metadata": {},
   "source": [
    "## Linear Density\n",
    "Given linear Density of $p(r) = p_0*r$, the nth moment of the mass distribution is  \n",
    "\\begin{gather*}\n",
    "m_n = \\sum_{j=1}^{N}x^{n}_{j}\\delta{m_j}\n",
    "\\end{gather*}\n",
    "\n"
   ]
  },
  {
   "cell_type": "code",
   "execution_count": 156,
   "id": "99ff12a0-1bf2-46d8-8969-aa06923c042c",
   "metadata": {
    "tags": []
   },
   "outputs": [],
   "source": [
    "# Function for MC integration for linear density\n",
    "def MC_Linear(N):\n",
    "    # Generate an array of N random numbers for the x, y, and z coordinates.\n",
    "    # Make sure that all the points lie in a cube enclosing the sphere.\n",
    "    points = np.zeros((N, 3)) \n",
    "    points[:, 0] = np.random.uniform(low=-1, high=1, size=N)\n",
    "    points[:, 1] = np.random.uniform(low=-1, high=1, size=N)\n",
    "    points[:, 2] = np.random.uniform(low=-1, high=1, size=N)\n",
    "    # Generate an index function. \n",
    "    # Function makes an array to append 1 (hit) or 0 (miss) for condition of inside sphere of radius=1\n",
    "    def in_sphere(points):\n",
    "        inside = []\n",
    "        radius = np.zeros(N)\n",
    "        for j in range(N):\n",
    "            radius[j] = np.sqrt((points[j, 0] ** 2) + (points[j, 1] ** 2) + (points[j, 2] ** 2))\n",
    "            if radius[j] < 1:\n",
    "                inside.append(1)\n",
    "            else: \n",
    "                inside.append(0)\n",
    "        return inside, radius\n",
    "    # Calculate the mass and uncertainty of mass by applying the Monte Carlo integration method.\n",
    "    i, r = in_sphere(points)\n",
    "    p0 = 2 # Given\n",
    "    f_sum = 0 # Initialize count of hits  \n",
    "    for k in range(N): \n",
    "        density = p0 * r[k] # Calculate linear density for r_k, given as p=(p_0)(r)\n",
    "        f_sum = f_sum + (density * i[k]) # Continue to add onto total sum of hits \n",
    "    m = (8 / N) * f_sum # total mass calculation\n",
    "    return m    "
   ]
  },
  {
   "cell_type": "code",
   "execution_count": 157,
   "id": "60adbf6d-2d25-452f-9056-af30f52ee457",
   "metadata": {},
   "outputs": [
    {
     "name": "stdout",
     "output_type": "stream",
     "text": [
      "6.6709010846802\n"
     ]
    }
   ],
   "source": [
    "# Integrate with N=100\n",
    "m_100_l = MC_Linear(100)\n",
    "print(m_100_l)"
   ]
  },
  {
   "cell_type": "code",
   "execution_count": 158,
   "id": "929cb683-4ac2-45ab-b9ee-fc60bd2a7200",
   "metadata": {},
   "outputs": [
    {
     "name": "stdout",
     "output_type": "stream",
     "text": [
      "[8.36816 8.36816 8.36816 8.36816 8.36816 8.36816 8.36816 8.36816 8.36816\n",
      " 8.36816 8.36816 8.36816 8.36816 8.36816 8.36816 8.36816 8.36816 8.36816\n",
      " 8.36816 8.36816 8.36816 8.36816 8.36816 8.36816 8.36816 8.36816 8.36816\n",
      " 8.36816 8.36816 8.36816 8.36816 8.36816 8.36816 8.36816 8.36816 8.36816\n",
      " 8.36816 8.36816 8.36816 8.36816 8.36816 8.36816 8.36816 8.36816 8.36816\n",
      " 8.36816 8.36816 8.36816 8.36816 8.36816 8.36816 8.36816 8.36816 8.36816\n",
      " 8.36816 8.36816 8.36816 8.36816 8.36816 8.36816 8.36816 8.36816 8.36816\n",
      " 8.36816 8.36816 8.36816 8.36816 8.36816 8.36816 8.36816 8.36816 8.36816\n",
      " 8.36816 8.36816 8.36816 8.36816 8.36816 8.36816 8.36816 8.36816 8.36816\n",
      " 8.36816 8.36816 8.36816 8.36816 8.36816 8.36816 8.36816 8.36816 8.36816\n",
      " 8.36816 8.36816 8.36816 8.36816 8.36816 8.36816 8.36816 8.36816 8.36816\n",
      " 8.36816]\n",
      "0.00836816\n"
     ]
    }
   ],
   "source": [
    "# Change N from 100 to 100K with 100 steps and integrate\n",
    "z = np.linspace(100, 100000, 100, dtype=int)\n",
    "m_list = np.zeros(100) \n",
    "m_variance = np.zeros(100)\n",
    "uncertainty = np.zeros(100)\n",
    "\n",
    "for i in range(100):\n",
    "    m_vals = MC_Uniform(z[i])\n",
    "    m_list[i] = m_val\n",
    "    uncertainty[i] = np.sqrt(np.var(m_list) / (Y[i] * (Y[i] - 1))) # The mean squared error\n",
    "    \n",
    "m_linear = m_list\n",
    "print(m_list)\n",
    "print(uncertainty[0])"
   ]
  },
  {
   "cell_type": "code",
   "execution_count": null,
   "id": "aeaff8db-2b2e-4139-8d92-88cf1a5df851",
   "metadata": {},
   "outputs": [],
   "source": []
  },
  {
   "cell_type": "markdown",
   "id": "d3fedd13-8230-4bab-9a76-8be538b22eee",
   "metadata": {},
   "source": [
    "# Bonus\n",
    "Consider a density that is a unit exponential function of the radius according to $\\rho(r)=\\frac{1}{\\rho_{0}e^{-\\rho_{0}r}}$."
   ]
  }
 ],
 "metadata": {
  "kernelspec": {
   "display_name": "Python 3 (ipykernel)",
   "language": "python",
   "name": "python3"
  },
  "language_info": {
   "codemirror_mode": {
    "name": "ipython",
    "version": 3
   },
   "file_extension": ".py",
   "mimetype": "text/x-python",
   "name": "python",
   "nbconvert_exporter": "python",
   "pygments_lexer": "ipython3",
   "version": "3.9.12"
  }
 },
 "nbformat": 4,
 "nbformat_minor": 5
}
